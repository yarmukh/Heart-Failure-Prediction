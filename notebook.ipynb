{
  "cells": [
    {
      "cell_type": "code",
      "execution_count": 14,
      "id": "21a314a9-4fa9-4491-acf7-abd97cbf1496",
      "metadata": {
        "id": "21a314a9-4fa9-4491-acf7-abd97cbf1496"
      },
      "outputs": [],
      "source": [
        "import numpy as np\n",
        "import pandas as pd\n",
        "import matplotlib.pyplot as plt\n",
        "import seaborn as sns\n",
        "import kagglehub\n",
        "from kagglehub import KaggleDatasetAdapter\n",
        "from sklearn.impute import SimpleImputer\n",
        "from sklearn.preprocessing import LabelEncoder\n",
        "from sklearn.model_selection import  train_test_split\n",
        "import warnings\n",
        "warnings.filterwarnings(\"ignore\")"
      ]
    },
    {
      "cell_type": "markdown",
      "source": [
        "качаем файл  \n"
      ],
      "metadata": {
        "id": "6behUFOd6bdH"
      },
      "id": "6behUFOd6bdH"
    },
    {
      "cell_type": "markdown",
      "source": [
        "# **проводим первичный анализ данных**"
      ],
      "metadata": {
        "id": "cyYY82NQMuYU"
      },
      "id": "cyYY82NQMuYU"
    },
    {
      "cell_type": "code",
      "source": [
        "url = \"/content/heart.csv\"\n",
        "df = pd.read_csv(url)\n",
        "df.head()"
      ],
      "metadata": {
        "colab": {
          "base_uri": "https://localhost:8080/",
          "height": 206
        },
        "id": "0lu4uxWajedq",
        "outputId": "e203ca54-b0cd-47d3-e717-f0da945c4abd"
      },
      "id": "0lu4uxWajedq",
      "execution_count": 15,
      "outputs": [
        {
          "output_type": "execute_result",
          "data": {
            "text/plain": [
              "   Age Sex ChestPainType  RestingBP  Cholesterol  FastingBS RestingECG  MaxHR  \\\n",
              "0   40   M           ATA        140          289          0     Normal    172   \n",
              "1   49   F           NAP        160          180          0     Normal    156   \n",
              "2   37   M           ATA        130          283          0         ST     98   \n",
              "3   48   F           ASY        138          214          0     Normal    108   \n",
              "4   54   M           NAP        150          195          0     Normal    122   \n",
              "\n",
              "  ExerciseAngina  Oldpeak ST_Slope  HeartDisease  \n",
              "0              N      0.0       Up             0  \n",
              "1              N      1.0     Flat             1  \n",
              "2              N      0.0       Up             0  \n",
              "3              Y      1.5     Flat             1  \n",
              "4              N      0.0       Up             0  "
            ],
            "text/html": [
              "\n",
              "  <div id=\"df-f9f88c32-c7a6-41cf-be16-070f9989b8dd\" class=\"colab-df-container\">\n",
              "    <div>\n",
              "<style scoped>\n",
              "    .dataframe tbody tr th:only-of-type {\n",
              "        vertical-align: middle;\n",
              "    }\n",
              "\n",
              "    .dataframe tbody tr th {\n",
              "        vertical-align: top;\n",
              "    }\n",
              "\n",
              "    .dataframe thead th {\n",
              "        text-align: right;\n",
              "    }\n",
              "</style>\n",
              "<table border=\"1\" class=\"dataframe\">\n",
              "  <thead>\n",
              "    <tr style=\"text-align: right;\">\n",
              "      <th></th>\n",
              "      <th>Age</th>\n",
              "      <th>Sex</th>\n",
              "      <th>ChestPainType</th>\n",
              "      <th>RestingBP</th>\n",
              "      <th>Cholesterol</th>\n",
              "      <th>FastingBS</th>\n",
              "      <th>RestingECG</th>\n",
              "      <th>MaxHR</th>\n",
              "      <th>ExerciseAngina</th>\n",
              "      <th>Oldpeak</th>\n",
              "      <th>ST_Slope</th>\n",
              "      <th>HeartDisease</th>\n",
              "    </tr>\n",
              "  </thead>\n",
              "  <tbody>\n",
              "    <tr>\n",
              "      <th>0</th>\n",
              "      <td>40</td>\n",
              "      <td>M</td>\n",
              "      <td>ATA</td>\n",
              "      <td>140</td>\n",
              "      <td>289</td>\n",
              "      <td>0</td>\n",
              "      <td>Normal</td>\n",
              "      <td>172</td>\n",
              "      <td>N</td>\n",
              "      <td>0.0</td>\n",
              "      <td>Up</td>\n",
              "      <td>0</td>\n",
              "    </tr>\n",
              "    <tr>\n",
              "      <th>1</th>\n",
              "      <td>49</td>\n",
              "      <td>F</td>\n",
              "      <td>NAP</td>\n",
              "      <td>160</td>\n",
              "      <td>180</td>\n",
              "      <td>0</td>\n",
              "      <td>Normal</td>\n",
              "      <td>156</td>\n",
              "      <td>N</td>\n",
              "      <td>1.0</td>\n",
              "      <td>Flat</td>\n",
              "      <td>1</td>\n",
              "    </tr>\n",
              "    <tr>\n",
              "      <th>2</th>\n",
              "      <td>37</td>\n",
              "      <td>M</td>\n",
              "      <td>ATA</td>\n",
              "      <td>130</td>\n",
              "      <td>283</td>\n",
              "      <td>0</td>\n",
              "      <td>ST</td>\n",
              "      <td>98</td>\n",
              "      <td>N</td>\n",
              "      <td>0.0</td>\n",
              "      <td>Up</td>\n",
              "      <td>0</td>\n",
              "    </tr>\n",
              "    <tr>\n",
              "      <th>3</th>\n",
              "      <td>48</td>\n",
              "      <td>F</td>\n",
              "      <td>ASY</td>\n",
              "      <td>138</td>\n",
              "      <td>214</td>\n",
              "      <td>0</td>\n",
              "      <td>Normal</td>\n",
              "      <td>108</td>\n",
              "      <td>Y</td>\n",
              "      <td>1.5</td>\n",
              "      <td>Flat</td>\n",
              "      <td>1</td>\n",
              "    </tr>\n",
              "    <tr>\n",
              "      <th>4</th>\n",
              "      <td>54</td>\n",
              "      <td>M</td>\n",
              "      <td>NAP</td>\n",
              "      <td>150</td>\n",
              "      <td>195</td>\n",
              "      <td>0</td>\n",
              "      <td>Normal</td>\n",
              "      <td>122</td>\n",
              "      <td>N</td>\n",
              "      <td>0.0</td>\n",
              "      <td>Up</td>\n",
              "      <td>0</td>\n",
              "    </tr>\n",
              "  </tbody>\n",
              "</table>\n",
              "</div>\n",
              "    <div class=\"colab-df-buttons\">\n",
              "\n",
              "  <div class=\"colab-df-container\">\n",
              "    <button class=\"colab-df-convert\" onclick=\"convertToInteractive('df-f9f88c32-c7a6-41cf-be16-070f9989b8dd')\"\n",
              "            title=\"Convert this dataframe to an interactive table.\"\n",
              "            style=\"display:none;\">\n",
              "\n",
              "  <svg xmlns=\"http://www.w3.org/2000/svg\" height=\"24px\" viewBox=\"0 -960 960 960\">\n",
              "    <path d=\"M120-120v-720h720v720H120Zm60-500h600v-160H180v160Zm220 220h160v-160H400v160Zm0 220h160v-160H400v160ZM180-400h160v-160H180v160Zm440 0h160v-160H620v160ZM180-180h160v-160H180v160Zm440 0h160v-160H620v160Z\"/>\n",
              "  </svg>\n",
              "    </button>\n",
              "\n",
              "  <style>\n",
              "    .colab-df-container {\n",
              "      display:flex;\n",
              "      gap: 12px;\n",
              "    }\n",
              "\n",
              "    .colab-df-convert {\n",
              "      background-color: #E8F0FE;\n",
              "      border: none;\n",
              "      border-radius: 50%;\n",
              "      cursor: pointer;\n",
              "      display: none;\n",
              "      fill: #1967D2;\n",
              "      height: 32px;\n",
              "      padding: 0 0 0 0;\n",
              "      width: 32px;\n",
              "    }\n",
              "\n",
              "    .colab-df-convert:hover {\n",
              "      background-color: #E2EBFA;\n",
              "      box-shadow: 0px 1px 2px rgba(60, 64, 67, 0.3), 0px 1px 3px 1px rgba(60, 64, 67, 0.15);\n",
              "      fill: #174EA6;\n",
              "    }\n",
              "\n",
              "    .colab-df-buttons div {\n",
              "      margin-bottom: 4px;\n",
              "    }\n",
              "\n",
              "    [theme=dark] .colab-df-convert {\n",
              "      background-color: #3B4455;\n",
              "      fill: #D2E3FC;\n",
              "    }\n",
              "\n",
              "    [theme=dark] .colab-df-convert:hover {\n",
              "      background-color: #434B5C;\n",
              "      box-shadow: 0px 1px 3px 1px rgba(0, 0, 0, 0.15);\n",
              "      filter: drop-shadow(0px 1px 2px rgba(0, 0, 0, 0.3));\n",
              "      fill: #FFFFFF;\n",
              "    }\n",
              "  </style>\n",
              "\n",
              "    <script>\n",
              "      const buttonEl =\n",
              "        document.querySelector('#df-f9f88c32-c7a6-41cf-be16-070f9989b8dd button.colab-df-convert');\n",
              "      buttonEl.style.display =\n",
              "        google.colab.kernel.accessAllowed ? 'block' : 'none';\n",
              "\n",
              "      async function convertToInteractive(key) {\n",
              "        const element = document.querySelector('#df-f9f88c32-c7a6-41cf-be16-070f9989b8dd');\n",
              "        const dataTable =\n",
              "          await google.colab.kernel.invokeFunction('convertToInteractive',\n",
              "                                                    [key], {});\n",
              "        if (!dataTable) return;\n",
              "\n",
              "        const docLinkHtml = 'Like what you see? Visit the ' +\n",
              "          '<a target=\"_blank\" href=https://colab.research.google.com/notebooks/data_table.ipynb>data table notebook</a>'\n",
              "          + ' to learn more about interactive tables.';\n",
              "        element.innerHTML = '';\n",
              "        dataTable['output_type'] = 'display_data';\n",
              "        await google.colab.output.renderOutput(dataTable, element);\n",
              "        const docLink = document.createElement('div');\n",
              "        docLink.innerHTML = docLinkHtml;\n",
              "        element.appendChild(docLink);\n",
              "      }\n",
              "    </script>\n",
              "  </div>\n",
              "\n",
              "\n",
              "    <div id=\"df-3b953720-d664-442f-a1ea-afa9e6bd6796\">\n",
              "      <button class=\"colab-df-quickchart\" onclick=\"quickchart('df-3b953720-d664-442f-a1ea-afa9e6bd6796')\"\n",
              "                title=\"Suggest charts\"\n",
              "                style=\"display:none;\">\n",
              "\n",
              "<svg xmlns=\"http://www.w3.org/2000/svg\" height=\"24px\"viewBox=\"0 0 24 24\"\n",
              "     width=\"24px\">\n",
              "    <g>\n",
              "        <path d=\"M19 3H5c-1.1 0-2 .9-2 2v14c0 1.1.9 2 2 2h14c1.1 0 2-.9 2-2V5c0-1.1-.9-2-2-2zM9 17H7v-7h2v7zm4 0h-2V7h2v10zm4 0h-2v-4h2v4z\"/>\n",
              "    </g>\n",
              "</svg>\n",
              "      </button>\n",
              "\n",
              "<style>\n",
              "  .colab-df-quickchart {\n",
              "      --bg-color: #E8F0FE;\n",
              "      --fill-color: #1967D2;\n",
              "      --hover-bg-color: #E2EBFA;\n",
              "      --hover-fill-color: #174EA6;\n",
              "      --disabled-fill-color: #AAA;\n",
              "      --disabled-bg-color: #DDD;\n",
              "  }\n",
              "\n",
              "  [theme=dark] .colab-df-quickchart {\n",
              "      --bg-color: #3B4455;\n",
              "      --fill-color: #D2E3FC;\n",
              "      --hover-bg-color: #434B5C;\n",
              "      --hover-fill-color: #FFFFFF;\n",
              "      --disabled-bg-color: #3B4455;\n",
              "      --disabled-fill-color: #666;\n",
              "  }\n",
              "\n",
              "  .colab-df-quickchart {\n",
              "    background-color: var(--bg-color);\n",
              "    border: none;\n",
              "    border-radius: 50%;\n",
              "    cursor: pointer;\n",
              "    display: none;\n",
              "    fill: var(--fill-color);\n",
              "    height: 32px;\n",
              "    padding: 0;\n",
              "    width: 32px;\n",
              "  }\n",
              "\n",
              "  .colab-df-quickchart:hover {\n",
              "    background-color: var(--hover-bg-color);\n",
              "    box-shadow: 0 1px 2px rgba(60, 64, 67, 0.3), 0 1px 3px 1px rgba(60, 64, 67, 0.15);\n",
              "    fill: var(--button-hover-fill-color);\n",
              "  }\n",
              "\n",
              "  .colab-df-quickchart-complete:disabled,\n",
              "  .colab-df-quickchart-complete:disabled:hover {\n",
              "    background-color: var(--disabled-bg-color);\n",
              "    fill: var(--disabled-fill-color);\n",
              "    box-shadow: none;\n",
              "  }\n",
              "\n",
              "  .colab-df-spinner {\n",
              "    border: 2px solid var(--fill-color);\n",
              "    border-color: transparent;\n",
              "    border-bottom-color: var(--fill-color);\n",
              "    animation:\n",
              "      spin 1s steps(1) infinite;\n",
              "  }\n",
              "\n",
              "  @keyframes spin {\n",
              "    0% {\n",
              "      border-color: transparent;\n",
              "      border-bottom-color: var(--fill-color);\n",
              "      border-left-color: var(--fill-color);\n",
              "    }\n",
              "    20% {\n",
              "      border-color: transparent;\n",
              "      border-left-color: var(--fill-color);\n",
              "      border-top-color: var(--fill-color);\n",
              "    }\n",
              "    30% {\n",
              "      border-color: transparent;\n",
              "      border-left-color: var(--fill-color);\n",
              "      border-top-color: var(--fill-color);\n",
              "      border-right-color: var(--fill-color);\n",
              "    }\n",
              "    40% {\n",
              "      border-color: transparent;\n",
              "      border-right-color: var(--fill-color);\n",
              "      border-top-color: var(--fill-color);\n",
              "    }\n",
              "    60% {\n",
              "      border-color: transparent;\n",
              "      border-right-color: var(--fill-color);\n",
              "    }\n",
              "    80% {\n",
              "      border-color: transparent;\n",
              "      border-right-color: var(--fill-color);\n",
              "      border-bottom-color: var(--fill-color);\n",
              "    }\n",
              "    90% {\n",
              "      border-color: transparent;\n",
              "      border-bottom-color: var(--fill-color);\n",
              "    }\n",
              "  }\n",
              "</style>\n",
              "\n",
              "      <script>\n",
              "        async function quickchart(key) {\n",
              "          const quickchartButtonEl =\n",
              "            document.querySelector('#' + key + ' button');\n",
              "          quickchartButtonEl.disabled = true;  // To prevent multiple clicks.\n",
              "          quickchartButtonEl.classList.add('colab-df-spinner');\n",
              "          try {\n",
              "            const charts = await google.colab.kernel.invokeFunction(\n",
              "                'suggestCharts', [key], {});\n",
              "          } catch (error) {\n",
              "            console.error('Error during call to suggestCharts:', error);\n",
              "          }\n",
              "          quickchartButtonEl.classList.remove('colab-df-spinner');\n",
              "          quickchartButtonEl.classList.add('colab-df-quickchart-complete');\n",
              "        }\n",
              "        (() => {\n",
              "          let quickchartButtonEl =\n",
              "            document.querySelector('#df-3b953720-d664-442f-a1ea-afa9e6bd6796 button');\n",
              "          quickchartButtonEl.style.display =\n",
              "            google.colab.kernel.accessAllowed ? 'block' : 'none';\n",
              "        })();\n",
              "      </script>\n",
              "    </div>\n",
              "    </div>\n",
              "  </div>\n"
            ],
            "application/vnd.google.colaboratory.intrinsic+json": {
              "type": "dataframe",
              "variable_name": "df",
              "summary": "{\n  \"name\": \"df\",\n  \"rows\": 918,\n  \"fields\": [\n    {\n      \"column\": \"Age\",\n      \"properties\": {\n        \"dtype\": \"number\",\n        \"std\": 9,\n        \"min\": 28,\n        \"max\": 77,\n        \"num_unique_values\": 50,\n        \"samples\": [\n          44,\n          68,\n          66\n        ],\n        \"semantic_type\": \"\",\n        \"description\": \"\"\n      }\n    },\n    {\n      \"column\": \"Sex\",\n      \"properties\": {\n        \"dtype\": \"category\",\n        \"num_unique_values\": 2,\n        \"samples\": [\n          \"F\",\n          \"M\"\n        ],\n        \"semantic_type\": \"\",\n        \"description\": \"\"\n      }\n    },\n    {\n      \"column\": \"ChestPainType\",\n      \"properties\": {\n        \"dtype\": \"category\",\n        \"num_unique_values\": 4,\n        \"samples\": [\n          \"NAP\",\n          \"TA\"\n        ],\n        \"semantic_type\": \"\",\n        \"description\": \"\"\n      }\n    },\n    {\n      \"column\": \"RestingBP\",\n      \"properties\": {\n        \"dtype\": \"number\",\n        \"std\": 18,\n        \"min\": 0,\n        \"max\": 200,\n        \"num_unique_values\": 67,\n        \"samples\": [\n          165,\n          118\n        ],\n        \"semantic_type\": \"\",\n        \"description\": \"\"\n      }\n    },\n    {\n      \"column\": \"Cholesterol\",\n      \"properties\": {\n        \"dtype\": \"number\",\n        \"std\": 109,\n        \"min\": 0,\n        \"max\": 603,\n        \"num_unique_values\": 222,\n        \"samples\": [\n          305,\n          321\n        ],\n        \"semantic_type\": \"\",\n        \"description\": \"\"\n      }\n    },\n    {\n      \"column\": \"FastingBS\",\n      \"properties\": {\n        \"dtype\": \"number\",\n        \"std\": 0,\n        \"min\": 0,\n        \"max\": 1,\n        \"num_unique_values\": 2,\n        \"samples\": [\n          1,\n          0\n        ],\n        \"semantic_type\": \"\",\n        \"description\": \"\"\n      }\n    },\n    {\n      \"column\": \"RestingECG\",\n      \"properties\": {\n        \"dtype\": \"category\",\n        \"num_unique_values\": 3,\n        \"samples\": [\n          \"Normal\",\n          \"ST\"\n        ],\n        \"semantic_type\": \"\",\n        \"description\": \"\"\n      }\n    },\n    {\n      \"column\": \"MaxHR\",\n      \"properties\": {\n        \"dtype\": \"number\",\n        \"std\": 25,\n        \"min\": 60,\n        \"max\": 202,\n        \"num_unique_values\": 119,\n        \"samples\": [\n          132,\n          157\n        ],\n        \"semantic_type\": \"\",\n        \"description\": \"\"\n      }\n    },\n    {\n      \"column\": \"ExerciseAngina\",\n      \"properties\": {\n        \"dtype\": \"category\",\n        \"num_unique_values\": 2,\n        \"samples\": [\n          \"Y\",\n          \"N\"\n        ],\n        \"semantic_type\": \"\",\n        \"description\": \"\"\n      }\n    },\n    {\n      \"column\": \"Oldpeak\",\n      \"properties\": {\n        \"dtype\": \"number\",\n        \"std\": 1.0665701510493233,\n        \"min\": -2.6,\n        \"max\": 6.2,\n        \"num_unique_values\": 53,\n        \"samples\": [\n          1.3,\n          0.6\n        ],\n        \"semantic_type\": \"\",\n        \"description\": \"\"\n      }\n    },\n    {\n      \"column\": \"ST_Slope\",\n      \"properties\": {\n        \"dtype\": \"category\",\n        \"num_unique_values\": 3,\n        \"samples\": [\n          \"Up\",\n          \"Flat\"\n        ],\n        \"semantic_type\": \"\",\n        \"description\": \"\"\n      }\n    },\n    {\n      \"column\": \"HeartDisease\",\n      \"properties\": {\n        \"dtype\": \"number\",\n        \"std\": 0,\n        \"min\": 0,\n        \"max\": 1,\n        \"num_unique_values\": 2,\n        \"samples\": [\n          1,\n          0\n        ],\n        \"semantic_type\": \"\",\n        \"description\": \"\"\n      }\n    }\n  ]\n}"
            }
          },
          "metadata": {},
          "execution_count": 15
        }
      ]
    },
    {
      "cell_type": "code",
      "execution_count": 16,
      "id": "cabbe438-cb56-4581-8484-0aab1509657f",
      "metadata": {
        "colab": {
          "base_uri": "https://localhost:8080/",
          "height": 460
        },
        "id": "cabbe438-cb56-4581-8484-0aab1509657f",
        "outputId": "77b1abe2-47d7-4bd1-9227-3b8ad5d249e4"
      },
      "outputs": [
        {
          "output_type": "execute_result",
          "data": {
            "text/plain": [
              "Age                 int64\n",
              "Sex                object\n",
              "ChestPainType      object\n",
              "RestingBP           int64\n",
              "Cholesterol         int64\n",
              "FastingBS           int64\n",
              "RestingECG         object\n",
              "MaxHR               int64\n",
              "ExerciseAngina     object\n",
              "Oldpeak           float64\n",
              "ST_Slope           object\n",
              "HeartDisease        int64\n",
              "dtype: object"
            ],
            "text/html": [
              "<div>\n",
              "<style scoped>\n",
              "    .dataframe tbody tr th:only-of-type {\n",
              "        vertical-align: middle;\n",
              "    }\n",
              "\n",
              "    .dataframe tbody tr th {\n",
              "        vertical-align: top;\n",
              "    }\n",
              "\n",
              "    .dataframe thead th {\n",
              "        text-align: right;\n",
              "    }\n",
              "</style>\n",
              "<table border=\"1\" class=\"dataframe\">\n",
              "  <thead>\n",
              "    <tr style=\"text-align: right;\">\n",
              "      <th></th>\n",
              "      <th>0</th>\n",
              "    </tr>\n",
              "  </thead>\n",
              "  <tbody>\n",
              "    <tr>\n",
              "      <th>Age</th>\n",
              "      <td>int64</td>\n",
              "    </tr>\n",
              "    <tr>\n",
              "      <th>Sex</th>\n",
              "      <td>object</td>\n",
              "    </tr>\n",
              "    <tr>\n",
              "      <th>ChestPainType</th>\n",
              "      <td>object</td>\n",
              "    </tr>\n",
              "    <tr>\n",
              "      <th>RestingBP</th>\n",
              "      <td>int64</td>\n",
              "    </tr>\n",
              "    <tr>\n",
              "      <th>Cholesterol</th>\n",
              "      <td>int64</td>\n",
              "    </tr>\n",
              "    <tr>\n",
              "      <th>FastingBS</th>\n",
              "      <td>int64</td>\n",
              "    </tr>\n",
              "    <tr>\n",
              "      <th>RestingECG</th>\n",
              "      <td>object</td>\n",
              "    </tr>\n",
              "    <tr>\n",
              "      <th>MaxHR</th>\n",
              "      <td>int64</td>\n",
              "    </tr>\n",
              "    <tr>\n",
              "      <th>ExerciseAngina</th>\n",
              "      <td>object</td>\n",
              "    </tr>\n",
              "    <tr>\n",
              "      <th>Oldpeak</th>\n",
              "      <td>float64</td>\n",
              "    </tr>\n",
              "    <tr>\n",
              "      <th>ST_Slope</th>\n",
              "      <td>object</td>\n",
              "    </tr>\n",
              "    <tr>\n",
              "      <th>HeartDisease</th>\n",
              "      <td>int64</td>\n",
              "    </tr>\n",
              "  </tbody>\n",
              "</table>\n",
              "</div><br><label><b>dtype:</b> object</label>"
            ]
          },
          "metadata": {},
          "execution_count": 16
        }
      ],
      "source": [
        "df.dtypes"
      ]
    },
    {
      "cell_type": "code",
      "execution_count": 17,
      "id": "811abce7-a069-48e7-a62f-8d49dde0722e",
      "metadata": {
        "id": "811abce7-a069-48e7-a62f-8d49dde0722e",
        "colab": {
          "base_uri": "https://localhost:8080/",
          "height": 460
        },
        "outputId": "33c9bb54-7f78-4ab9-e00c-22088bd45a9a"
      },
      "outputs": [
        {
          "output_type": "execute_result",
          "data": {
            "text/plain": [
              "Age               0\n",
              "Sex               0\n",
              "ChestPainType     0\n",
              "RestingBP         0\n",
              "Cholesterol       0\n",
              "FastingBS         0\n",
              "RestingECG        0\n",
              "MaxHR             0\n",
              "ExerciseAngina    0\n",
              "Oldpeak           0\n",
              "ST_Slope          0\n",
              "HeartDisease      0\n",
              "dtype: int64"
            ],
            "text/html": [
              "<div>\n",
              "<style scoped>\n",
              "    .dataframe tbody tr th:only-of-type {\n",
              "        vertical-align: middle;\n",
              "    }\n",
              "\n",
              "    .dataframe tbody tr th {\n",
              "        vertical-align: top;\n",
              "    }\n",
              "\n",
              "    .dataframe thead th {\n",
              "        text-align: right;\n",
              "    }\n",
              "</style>\n",
              "<table border=\"1\" class=\"dataframe\">\n",
              "  <thead>\n",
              "    <tr style=\"text-align: right;\">\n",
              "      <th></th>\n",
              "      <th>0</th>\n",
              "    </tr>\n",
              "  </thead>\n",
              "  <tbody>\n",
              "    <tr>\n",
              "      <th>Age</th>\n",
              "      <td>0</td>\n",
              "    </tr>\n",
              "    <tr>\n",
              "      <th>Sex</th>\n",
              "      <td>0</td>\n",
              "    </tr>\n",
              "    <tr>\n",
              "      <th>ChestPainType</th>\n",
              "      <td>0</td>\n",
              "    </tr>\n",
              "    <tr>\n",
              "      <th>RestingBP</th>\n",
              "      <td>0</td>\n",
              "    </tr>\n",
              "    <tr>\n",
              "      <th>Cholesterol</th>\n",
              "      <td>0</td>\n",
              "    </tr>\n",
              "    <tr>\n",
              "      <th>FastingBS</th>\n",
              "      <td>0</td>\n",
              "    </tr>\n",
              "    <tr>\n",
              "      <th>RestingECG</th>\n",
              "      <td>0</td>\n",
              "    </tr>\n",
              "    <tr>\n",
              "      <th>MaxHR</th>\n",
              "      <td>0</td>\n",
              "    </tr>\n",
              "    <tr>\n",
              "      <th>ExerciseAngina</th>\n",
              "      <td>0</td>\n",
              "    </tr>\n",
              "    <tr>\n",
              "      <th>Oldpeak</th>\n",
              "      <td>0</td>\n",
              "    </tr>\n",
              "    <tr>\n",
              "      <th>ST_Slope</th>\n",
              "      <td>0</td>\n",
              "    </tr>\n",
              "    <tr>\n",
              "      <th>HeartDisease</th>\n",
              "      <td>0</td>\n",
              "    </tr>\n",
              "  </tbody>\n",
              "</table>\n",
              "</div><br><label><b>dtype:</b> int64</label>"
            ]
          },
          "metadata": {},
          "execution_count": 17
        }
      ],
      "source": [
        "df.isnull().sum()"
      ]
    },
    {
      "cell_type": "code",
      "execution_count": 18,
      "id": "d31c850c-4008-4c09-bec7-103cf418738d",
      "metadata": {
        "colab": {
          "base_uri": "https://localhost:8080/",
          "height": 269
        },
        "id": "d31c850c-4008-4c09-bec7-103cf418738d",
        "outputId": "710a6e48-6b71-4c28-a3b8-052ca30ccaef"
      },
      "outputs": [
        {
          "output_type": "execute_result",
          "data": {
            "text/plain": [
              "              count        mean         std   min     25%    50%    75%    max\n",
              "Age           918.0   53.510893    9.432617  28.0   47.00   54.0   60.0   77.0\n",
              "RestingBP     918.0  132.396514   18.514154   0.0  120.00  130.0  140.0  200.0\n",
              "Cholesterol   918.0  198.799564  109.384145   0.0  173.25  223.0  267.0  603.0\n",
              "FastingBS     918.0    0.233115    0.423046   0.0    0.00    0.0    0.0    1.0\n",
              "MaxHR         918.0  136.809368   25.460334  60.0  120.00  138.0  156.0  202.0\n",
              "Oldpeak       918.0    0.887364    1.066570  -2.6    0.00    0.6    1.5    6.2\n",
              "HeartDisease  918.0    0.553377    0.497414   0.0    0.00    1.0    1.0    1.0"
            ],
            "text/html": [
              "\n",
              "  <div id=\"df-3eab7734-5678-4f7e-aead-1fbada3028ee\" class=\"colab-df-container\">\n",
              "    <div>\n",
              "<style scoped>\n",
              "    .dataframe tbody tr th:only-of-type {\n",
              "        vertical-align: middle;\n",
              "    }\n",
              "\n",
              "    .dataframe tbody tr th {\n",
              "        vertical-align: top;\n",
              "    }\n",
              "\n",
              "    .dataframe thead th {\n",
              "        text-align: right;\n",
              "    }\n",
              "</style>\n",
              "<table border=\"1\" class=\"dataframe\">\n",
              "  <thead>\n",
              "    <tr style=\"text-align: right;\">\n",
              "      <th></th>\n",
              "      <th>count</th>\n",
              "      <th>mean</th>\n",
              "      <th>std</th>\n",
              "      <th>min</th>\n",
              "      <th>25%</th>\n",
              "      <th>50%</th>\n",
              "      <th>75%</th>\n",
              "      <th>max</th>\n",
              "    </tr>\n",
              "  </thead>\n",
              "  <tbody>\n",
              "    <tr>\n",
              "      <th>Age</th>\n",
              "      <td>918.0</td>\n",
              "      <td>53.510893</td>\n",
              "      <td>9.432617</td>\n",
              "      <td>28.0</td>\n",
              "      <td>47.00</td>\n",
              "      <td>54.0</td>\n",
              "      <td>60.0</td>\n",
              "      <td>77.0</td>\n",
              "    </tr>\n",
              "    <tr>\n",
              "      <th>RestingBP</th>\n",
              "      <td>918.0</td>\n",
              "      <td>132.396514</td>\n",
              "      <td>18.514154</td>\n",
              "      <td>0.0</td>\n",
              "      <td>120.00</td>\n",
              "      <td>130.0</td>\n",
              "      <td>140.0</td>\n",
              "      <td>200.0</td>\n",
              "    </tr>\n",
              "    <tr>\n",
              "      <th>Cholesterol</th>\n",
              "      <td>918.0</td>\n",
              "      <td>198.799564</td>\n",
              "      <td>109.384145</td>\n",
              "      <td>0.0</td>\n",
              "      <td>173.25</td>\n",
              "      <td>223.0</td>\n",
              "      <td>267.0</td>\n",
              "      <td>603.0</td>\n",
              "    </tr>\n",
              "    <tr>\n",
              "      <th>FastingBS</th>\n",
              "      <td>918.0</td>\n",
              "      <td>0.233115</td>\n",
              "      <td>0.423046</td>\n",
              "      <td>0.0</td>\n",
              "      <td>0.00</td>\n",
              "      <td>0.0</td>\n",
              "      <td>0.0</td>\n",
              "      <td>1.0</td>\n",
              "    </tr>\n",
              "    <tr>\n",
              "      <th>MaxHR</th>\n",
              "      <td>918.0</td>\n",
              "      <td>136.809368</td>\n",
              "      <td>25.460334</td>\n",
              "      <td>60.0</td>\n",
              "      <td>120.00</td>\n",
              "      <td>138.0</td>\n",
              "      <td>156.0</td>\n",
              "      <td>202.0</td>\n",
              "    </tr>\n",
              "    <tr>\n",
              "      <th>Oldpeak</th>\n",
              "      <td>918.0</td>\n",
              "      <td>0.887364</td>\n",
              "      <td>1.066570</td>\n",
              "      <td>-2.6</td>\n",
              "      <td>0.00</td>\n",
              "      <td>0.6</td>\n",
              "      <td>1.5</td>\n",
              "      <td>6.2</td>\n",
              "    </tr>\n",
              "    <tr>\n",
              "      <th>HeartDisease</th>\n",
              "      <td>918.0</td>\n",
              "      <td>0.553377</td>\n",
              "      <td>0.497414</td>\n",
              "      <td>0.0</td>\n",
              "      <td>0.00</td>\n",
              "      <td>1.0</td>\n",
              "      <td>1.0</td>\n",
              "      <td>1.0</td>\n",
              "    </tr>\n",
              "  </tbody>\n",
              "</table>\n",
              "</div>\n",
              "    <div class=\"colab-df-buttons\">\n",
              "\n",
              "  <div class=\"colab-df-container\">\n",
              "    <button class=\"colab-df-convert\" onclick=\"convertToInteractive('df-3eab7734-5678-4f7e-aead-1fbada3028ee')\"\n",
              "            title=\"Convert this dataframe to an interactive table.\"\n",
              "            style=\"display:none;\">\n",
              "\n",
              "  <svg xmlns=\"http://www.w3.org/2000/svg\" height=\"24px\" viewBox=\"0 -960 960 960\">\n",
              "    <path d=\"M120-120v-720h720v720H120Zm60-500h600v-160H180v160Zm220 220h160v-160H400v160Zm0 220h160v-160H400v160ZM180-400h160v-160H180v160Zm440 0h160v-160H620v160ZM180-180h160v-160H180v160Zm440 0h160v-160H620v160Z\"/>\n",
              "  </svg>\n",
              "    </button>\n",
              "\n",
              "  <style>\n",
              "    .colab-df-container {\n",
              "      display:flex;\n",
              "      gap: 12px;\n",
              "    }\n",
              "\n",
              "    .colab-df-convert {\n",
              "      background-color: #E8F0FE;\n",
              "      border: none;\n",
              "      border-radius: 50%;\n",
              "      cursor: pointer;\n",
              "      display: none;\n",
              "      fill: #1967D2;\n",
              "      height: 32px;\n",
              "      padding: 0 0 0 0;\n",
              "      width: 32px;\n",
              "    }\n",
              "\n",
              "    .colab-df-convert:hover {\n",
              "      background-color: #E2EBFA;\n",
              "      box-shadow: 0px 1px 2px rgba(60, 64, 67, 0.3), 0px 1px 3px 1px rgba(60, 64, 67, 0.15);\n",
              "      fill: #174EA6;\n",
              "    }\n",
              "\n",
              "    .colab-df-buttons div {\n",
              "      margin-bottom: 4px;\n",
              "    }\n",
              "\n",
              "    [theme=dark] .colab-df-convert {\n",
              "      background-color: #3B4455;\n",
              "      fill: #D2E3FC;\n",
              "    }\n",
              "\n",
              "    [theme=dark] .colab-df-convert:hover {\n",
              "      background-color: #434B5C;\n",
              "      box-shadow: 0px 1px 3px 1px rgba(0, 0, 0, 0.15);\n",
              "      filter: drop-shadow(0px 1px 2px rgba(0, 0, 0, 0.3));\n",
              "      fill: #FFFFFF;\n",
              "    }\n",
              "  </style>\n",
              "\n",
              "    <script>\n",
              "      const buttonEl =\n",
              "        document.querySelector('#df-3eab7734-5678-4f7e-aead-1fbada3028ee button.colab-df-convert');\n",
              "      buttonEl.style.display =\n",
              "        google.colab.kernel.accessAllowed ? 'block' : 'none';\n",
              "\n",
              "      async function convertToInteractive(key) {\n",
              "        const element = document.querySelector('#df-3eab7734-5678-4f7e-aead-1fbada3028ee');\n",
              "        const dataTable =\n",
              "          await google.colab.kernel.invokeFunction('convertToInteractive',\n",
              "                                                    [key], {});\n",
              "        if (!dataTable) return;\n",
              "\n",
              "        const docLinkHtml = 'Like what you see? Visit the ' +\n",
              "          '<a target=\"_blank\" href=https://colab.research.google.com/notebooks/data_table.ipynb>data table notebook</a>'\n",
              "          + ' to learn more about interactive tables.';\n",
              "        element.innerHTML = '';\n",
              "        dataTable['output_type'] = 'display_data';\n",
              "        await google.colab.output.renderOutput(dataTable, element);\n",
              "        const docLink = document.createElement('div');\n",
              "        docLink.innerHTML = docLinkHtml;\n",
              "        element.appendChild(docLink);\n",
              "      }\n",
              "    </script>\n",
              "  </div>\n",
              "\n",
              "\n",
              "    <div id=\"df-7e9b0836-96a2-4618-84a0-16fdd94b506f\">\n",
              "      <button class=\"colab-df-quickchart\" onclick=\"quickchart('df-7e9b0836-96a2-4618-84a0-16fdd94b506f')\"\n",
              "                title=\"Suggest charts\"\n",
              "                style=\"display:none;\">\n",
              "\n",
              "<svg xmlns=\"http://www.w3.org/2000/svg\" height=\"24px\"viewBox=\"0 0 24 24\"\n",
              "     width=\"24px\">\n",
              "    <g>\n",
              "        <path d=\"M19 3H5c-1.1 0-2 .9-2 2v14c0 1.1.9 2 2 2h14c1.1 0 2-.9 2-2V5c0-1.1-.9-2-2-2zM9 17H7v-7h2v7zm4 0h-2V7h2v10zm4 0h-2v-4h2v4z\"/>\n",
              "    </g>\n",
              "</svg>\n",
              "      </button>\n",
              "\n",
              "<style>\n",
              "  .colab-df-quickchart {\n",
              "      --bg-color: #E8F0FE;\n",
              "      --fill-color: #1967D2;\n",
              "      --hover-bg-color: #E2EBFA;\n",
              "      --hover-fill-color: #174EA6;\n",
              "      --disabled-fill-color: #AAA;\n",
              "      --disabled-bg-color: #DDD;\n",
              "  }\n",
              "\n",
              "  [theme=dark] .colab-df-quickchart {\n",
              "      --bg-color: #3B4455;\n",
              "      --fill-color: #D2E3FC;\n",
              "      --hover-bg-color: #434B5C;\n",
              "      --hover-fill-color: #FFFFFF;\n",
              "      --disabled-bg-color: #3B4455;\n",
              "      --disabled-fill-color: #666;\n",
              "  }\n",
              "\n",
              "  .colab-df-quickchart {\n",
              "    background-color: var(--bg-color);\n",
              "    border: none;\n",
              "    border-radius: 50%;\n",
              "    cursor: pointer;\n",
              "    display: none;\n",
              "    fill: var(--fill-color);\n",
              "    height: 32px;\n",
              "    padding: 0;\n",
              "    width: 32px;\n",
              "  }\n",
              "\n",
              "  .colab-df-quickchart:hover {\n",
              "    background-color: var(--hover-bg-color);\n",
              "    box-shadow: 0 1px 2px rgba(60, 64, 67, 0.3), 0 1px 3px 1px rgba(60, 64, 67, 0.15);\n",
              "    fill: var(--button-hover-fill-color);\n",
              "  }\n",
              "\n",
              "  .colab-df-quickchart-complete:disabled,\n",
              "  .colab-df-quickchart-complete:disabled:hover {\n",
              "    background-color: var(--disabled-bg-color);\n",
              "    fill: var(--disabled-fill-color);\n",
              "    box-shadow: none;\n",
              "  }\n",
              "\n",
              "  .colab-df-spinner {\n",
              "    border: 2px solid var(--fill-color);\n",
              "    border-color: transparent;\n",
              "    border-bottom-color: var(--fill-color);\n",
              "    animation:\n",
              "      spin 1s steps(1) infinite;\n",
              "  }\n",
              "\n",
              "  @keyframes spin {\n",
              "    0% {\n",
              "      border-color: transparent;\n",
              "      border-bottom-color: var(--fill-color);\n",
              "      border-left-color: var(--fill-color);\n",
              "    }\n",
              "    20% {\n",
              "      border-color: transparent;\n",
              "      border-left-color: var(--fill-color);\n",
              "      border-top-color: var(--fill-color);\n",
              "    }\n",
              "    30% {\n",
              "      border-color: transparent;\n",
              "      border-left-color: var(--fill-color);\n",
              "      border-top-color: var(--fill-color);\n",
              "      border-right-color: var(--fill-color);\n",
              "    }\n",
              "    40% {\n",
              "      border-color: transparent;\n",
              "      border-right-color: var(--fill-color);\n",
              "      border-top-color: var(--fill-color);\n",
              "    }\n",
              "    60% {\n",
              "      border-color: transparent;\n",
              "      border-right-color: var(--fill-color);\n",
              "    }\n",
              "    80% {\n",
              "      border-color: transparent;\n",
              "      border-right-color: var(--fill-color);\n",
              "      border-bottom-color: var(--fill-color);\n",
              "    }\n",
              "    90% {\n",
              "      border-color: transparent;\n",
              "      border-bottom-color: var(--fill-color);\n",
              "    }\n",
              "  }\n",
              "</style>\n",
              "\n",
              "      <script>\n",
              "        async function quickchart(key) {\n",
              "          const quickchartButtonEl =\n",
              "            document.querySelector('#' + key + ' button');\n",
              "          quickchartButtonEl.disabled = true;  // To prevent multiple clicks.\n",
              "          quickchartButtonEl.classList.add('colab-df-spinner');\n",
              "          try {\n",
              "            const charts = await google.colab.kernel.invokeFunction(\n",
              "                'suggestCharts', [key], {});\n",
              "          } catch (error) {\n",
              "            console.error('Error during call to suggestCharts:', error);\n",
              "          }\n",
              "          quickchartButtonEl.classList.remove('colab-df-spinner');\n",
              "          quickchartButtonEl.classList.add('colab-df-quickchart-complete');\n",
              "        }\n",
              "        (() => {\n",
              "          let quickchartButtonEl =\n",
              "            document.querySelector('#df-7e9b0836-96a2-4618-84a0-16fdd94b506f button');\n",
              "          quickchartButtonEl.style.display =\n",
              "            google.colab.kernel.accessAllowed ? 'block' : 'none';\n",
              "        })();\n",
              "      </script>\n",
              "    </div>\n",
              "    </div>\n",
              "  </div>\n"
            ],
            "application/vnd.google.colaboratory.intrinsic+json": {
              "type": "dataframe",
              "summary": "{\n  \"name\": \"df\",\n  \"rows\": 7,\n  \"fields\": [\n    {\n      \"column\": \"count\",\n      \"properties\": {\n        \"dtype\": \"number\",\n        \"std\": 0.0,\n        \"min\": 918.0,\n        \"max\": 918.0,\n        \"num_unique_values\": 1,\n        \"samples\": [\n          918.0\n        ],\n        \"semantic_type\": \"\",\n        \"description\": \"\"\n      }\n    },\n    {\n      \"column\": \"mean\",\n      \"properties\": {\n        \"dtype\": \"number\",\n        \"std\": 81.16595478381392,\n        \"min\": 0.23311546840958605,\n        \"max\": 198.7995642701525,\n        \"num_unique_values\": 7,\n        \"samples\": [\n          53.510893246187365\n        ],\n        \"semantic_type\": \"\",\n        \"description\": \"\"\n      }\n    },\n    {\n      \"column\": \"std\",\n      \"properties\": {\n        \"dtype\": \"number\",\n        \"std\": 39.088770004754714,\n        \"min\": 0.423045624739302,\n        \"max\": 109.38414455220337,\n        \"num_unique_values\": 7,\n        \"samples\": [\n          9.432616506732007\n        ],\n        \"semantic_type\": \"\",\n        \"description\": \"\"\n      }\n    },\n    {\n      \"column\": \"min\",\n      \"properties\": {\n        \"dtype\": \"number\",\n        \"std\": 23.625127865615177,\n        \"min\": -2.6,\n        \"max\": 60.0,\n        \"num_unique_values\": 4,\n        \"samples\": [\n          0.0\n        ],\n        \"semantic_type\": \"\",\n        \"description\": \"\"\n      }\n    },\n    {\n      \"column\": \"25%\",\n      \"properties\": {\n        \"dtype\": \"number\",\n        \"std\": 71.6043818491578,\n        \"min\": 0.0,\n        \"max\": 173.25,\n        \"num_unique_values\": 4,\n        \"samples\": [\n          120.0\n        ],\n        \"semantic_type\": \"\",\n        \"description\": \"\"\n      }\n    },\n    {\n      \"column\": \"50%\",\n      \"properties\": {\n        \"dtype\": \"number\",\n        \"std\": 87.47257529403961,\n        \"min\": 0.0,\n        \"max\": 223.0,\n        \"num_unique_values\": 7,\n        \"samples\": [\n          54.0\n        ],\n        \"semantic_type\": \"\",\n        \"description\": \"\"\n      }\n    },\n    {\n      \"column\": \"75%\",\n      \"properties\": {\n        \"dtype\": \"number\",\n        \"std\": 102.4169233597465,\n        \"min\": 0.0,\n        \"max\": 267.0,\n        \"num_unique_values\": 7,\n        \"samples\": [\n          60.0\n        ],\n        \"semantic_type\": \"\",\n        \"description\": \"\"\n      }\n    },\n    {\n      \"column\": \"max\",\n      \"properties\": {\n        \"dtype\": \"number\",\n        \"std\": 216.2527753744281,\n        \"min\": 1.0,\n        \"max\": 603.0,\n        \"num_unique_values\": 6,\n        \"samples\": [\n          77.0\n        ],\n        \"semantic_type\": \"\",\n        \"description\": \"\"\n      }\n    }\n  ]\n}"
            }
          },
          "metadata": {},
          "execution_count": 18
        }
      ],
      "source": [
        "df.describe().T"
      ]
    },
    {
      "cell_type": "markdown",
      "source": [
        "выводим распределение возраста по полу  \n",
        "видим, что в рамках данного дата сета мужчин больше, чем женщин в каждой возрастной категории."
      ],
      "metadata": {
        "id": "oOjpAgYW64Gf"
      },
      "id": "oOjpAgYW64Gf"
    },
    {
      "cell_type": "code",
      "execution_count": 19,
      "id": "efef55fd-4061-46f3-8c86-349739b4b8c3",
      "metadata": {
        "colab": {
          "base_uri": "https://localhost:8080/",
          "height": 466
        },
        "id": "efef55fd-4061-46f3-8c86-349739b4b8c3",
        "outputId": "9eca1919-b4cb-4d4d-eef0-e67ec9edffce"
      },
      "outputs": [
        {
          "output_type": "execute_result",
          "data": {
            "text/plain": [
              "<Axes: xlabel='Age', ylabel='Count'>"
            ]
          },
          "metadata": {},
          "execution_count": 19
        },
        {
          "output_type": "display_data",
          "data": {
            "text/plain": [
              "<Figure size 640x480 with 1 Axes>"
            ],
            "image/png": "[encoded data removed]"
          },
          "metadata": {}
        }
      ],
      "source": [
        "sns.histplot(data = df, x=\"Age\", binwidth=0.9, hue=\"Sex\")"
      ]
    },
    {
      "cell_type": "markdown",
      "source": [
        "изучим зависимость частоту сердечных заболиваний от возраста  "
      ],
      "metadata": {
        "id": "rcPiAdgT8D5A"
      },
      "id": "rcPiAdgT8D5A"
    },
    {
      "cell_type": "code",
      "execution_count": 20,
      "id": "78ab06cb-e564-43b7-849c-50b8188caf96",
      "metadata": {
        "colab": {
          "base_uri": "https://localhost:8080/",
          "height": 466
        },
        "id": "78ab06cb-e564-43b7-849c-50b8188caf96",
        "outputId": "0dec09fd-7939-4110-c406-5e94a24d5a78"
      },
      "outputs": [
        {
          "output_type": "execute_result",
          "data": {
            "text/plain": [
              "<Axes: xlabel='Age', ylabel='Count'>"
            ]
          },
          "metadata": {},
          "execution_count": 20
        },
        {
          "output_type": "display_data",
          "data": {
            "text/plain": [
              "<Figure size 640x480 with 1 Axes>"
            ],
            "image/png": "[encoded data removed]"
          },
          "metadata": {}
        }
      ],
      "source": [
        "sns.histplot(data = df, x = 'Age', binwidth = 0.9, hue = \"HeartDisease\")"
      ]
    },
    {
      "cell_type": "markdown",
      "source": [
        "изучим процент заболевших для различного возраста.  "
      ],
      "metadata": {
        "id": "OEKZBSYhP6PN"
      },
      "id": "OEKZBSYhP6PN"
    },
    {
      "cell_type": "markdown",
      "source": [
        "Применим МНК для построения линии тренда. Используем многочлен второй степени."
      ],
      "metadata": {
        "id": "Ym7G6yu7glmA"
      },
      "id": "Ym7G6yu7glmA"
    },
    {
      "cell_type": "code",
      "source": [
        "age_stats = df.groupby('Age')['HeartDisease'].agg(['count', 'sum']).reset_index()\n",
        "age_stats['percentage'] = (age_stats['sum'] / age_stats['count']) * 100\n",
        "A = np.column_stack([age_stats[\"Age\"]**2, age_stats[\"Age\"], np.ones_like(age_stats[\"Age\"])])\n",
        "b = np.array(age_stats['percentage'])\n",
        "x_MGK =np.linalg.inv(A.T @ A) @ A.T @ b"
      ],
      "metadata": {
        "id": "_cQay9ArlkE8"
      },
      "id": "_cQay9ArlkE8",
      "execution_count": 99,
      "outputs": []
    },
    {
      "cell_type": "code",
      "source": [
        "plt.figure(figsize=(12, 6))\n",
        "plt.plot(age_stats['Age'], age_stats['percentage'],\n",
        "         marker='o', linestyle='-', linewidth=1, markersize=3, alpha=0.7)\n",
        "def f(x):\n",
        "   return x_MGK[0]*x**2 + x_MGK[1]*x + x_MGK[2]\n",
        "\n",
        "x_range = np.linspace(min(age_stats['Age']), max(age_stats['Age']), 100)\n",
        "y_values = f(x_range)\n",
        "\n",
        "plt.plot(x_range, y_values, 'r-', linewidth=2, label='y = f(x)')\n",
        "\n",
        "\n",
        "plt.xlabel('Возраст', fontsize=12)\n",
        "plt.ylabel('Процент заболевших (%)', fontsize=12)\n",
        "plt.title('Зависимость процента заболевших от возраста', fontsize=14)\n",
        "plt.grid(True, alpha=0.3)\n",
        "plt.tight_layout()\n",
        "plt.show()"
      ],
      "metadata": {
        "colab": {
          "base_uri": "https://localhost:8080/",
          "height": 569
        },
        "id": "OMeer0YjOiCC",
        "outputId": "0af0c3ad-fc28-42b6-84ac-dee883371c66"
      },
      "id": "OMeer0YjOiCC",
      "execution_count": 108,
      "outputs": [
        {
          "output_type": "display_data",
          "data": {
            "text/plain": [
              "<Figure size 1200x600 with 1 Axes>"
            ],
            "image/png": "[encoded data removed]"
          },
          "metadata": {}
        }
      ]
    },
    {
      "cell_type": "markdown",
      "source": [
        "делаем проверку данных на соответствие нормальному распределению  "
      ],
      "metadata": {
        "id": "09A6vDfH9um5"
      },
      "id": "09A6vDfH9um5"
    },
    {
      "cell_type": "code",
      "execution_count": null,
      "id": "b0005a44-59f5-4723-a765-012b098e1375",
      "metadata": {
        "id": "b0005a44-59f5-4723-a765-012b098e1375"
      },
      "outputs": [],
      "source": [
        "g = sns.FacetGrid(df, col=\"HeartDisease\", height=6, aspect=1.2, hue = \"Sex\")\n",
        "g.map(sns.histplot, \"Age\", binwidth=0.9, kde=True)\n",
        "g.set_titles(col_template=\"Heart Disease = {col_name}\")\n",
        "g.add_legend()\n",
        "plt.show()"
      ]
    },
    {
      "cell_type": "markdown",
      "source": [
        "график зависимости наличия заболевания от пола.  "
      ],
      "metadata": {
        "id": "lMjIxtHJWASb"
      },
      "id": "lMjIxtHJWASb"
    },
    {
      "cell_type": "code",
      "source": [
        "df['HeartDisease_Label'] = df['HeartDisease'].map({0: 'No Disease', 1: 'Disease'})\n",
        "\n",
        "plt.figure(figsize=(10, 6))\n",
        "sns.histplot(data=df, x=\"HeartDisease_Label\", binwidth=0.1, hue=\"Sex\", shrink=0.8)\n",
        "plt.xlabel(\"\")\n",
        "plt.ylabel('Count')\n",
        "plt.legend(title='Sex', labels=['Male', 'Female'])\n",
        "plt.tight_layout()\n",
        "plt.show()\n",
        "df = df.drop('HeartDisease_Label', axis = 1)"
      ],
      "metadata": {
        "id": "UQVr2O3NRAQ7"
      },
      "id": "UQVr2O3NRAQ7",
      "execution_count": null,
      "outputs": []
    },
    {
      "cell_type": "markdown",
      "source": [
        "выведем всех людей с сердечными заболиваеями сгруппировав по полу.  \n",
        "как видим, количество мужчин с сердечными заболеванием больше, чем количество женщин.  "
      ],
      "metadata": {
        "id": "Crn4G799-7a4"
      },
      "id": "Crn4G799-7a4"
    },
    {
      "cell_type": "code",
      "execution_count": null,
      "id": "7835b5ce-3ca1-428d-85e1-6f144b75916b",
      "metadata": {
        "id": "7835b5ce-3ca1-428d-85e1-6f144b75916b"
      },
      "outputs": [],
      "source": [
        "sns.histplot(data = df[df[\"HeartDisease\"] == 1], x = \"Age\", binwidth = 0.7, hue = \"Sex\")"
      ]
    },
    {
      "cell_type": "markdown",
      "source": [
        "добавить график, ораньжевый столбец делить на синий. где ноль - не выводить.  "
      ],
      "metadata": {
        "id": "2OaKFv9V_yo_"
      },
      "id": "2OaKFv9V_yo_"
    },
    {
      "cell_type": "code",
      "source": [
        "heart_disease_data = df[df[\"HeartDisease\"] == 1]\n",
        "age_gender_counts = heart_disease_data.groupby(['Age', 'Sex']).size().unstack(fill_value=0)\n",
        "\n",
        "ratios = []\n",
        "ages_with_ratio = []\n",
        "for age in age_gender_counts.index:\n",
        "    if 'F' in age_gender_counts.columns and 'M' in age_gender_counts.columns:\n",
        "        female_count = age_gender_counts.loc[age, 'F']\n",
        "        male_count = age_gender_counts.loc[age, 'M']\n",
        "\n",
        "        if female_count > 0:\n",
        "            ratio = male_count / female_count\n",
        "            ratios.append(ratio)\n",
        "            ages_with_ratio.append(age)\n",
        "    elif 'Female' in age_gender_counts.columns and 'Male' in age_gender_counts.columns:\n",
        "        female_count = age_gender_counts.loc[age, 'Female']\n",
        "        male_count = age_gender_counts.loc[age, 'Male']\n",
        "\n",
        "        if female_count > 0:\n",
        "            ratio = male_count / female_count\n",
        "            ratios.append(ratio)\n",
        "            ages_with_ratio.append(age)\n",
        "\n",
        "plt.figure(figsize=(14, 6))\n",
        "if len(ages_with_ratio) > 0:\n",
        "    bars = plt.bar(ages_with_ratio, ratios, color='orange', alpha=0.7, width=0.7)\n",
        "    plt.xlabel('Возраст')\n",
        "    plt.ylabel('Соотношение (Мужчины/Женщины)')\n",
        "    plt.title('Соотношение количества заболеваний мужчин к женщинам по возрастам')\n",
        "    plt.grid(axis='y', alpha=0.3)\n",
        "\n",
        "    for i, (age, ratio) in enumerate(zip(ages_with_ratio, ratios)):\n",
        "        if ratio > 0:\n",
        "            plt.text(age, ratio + 0.05, f'{ratio:.1f}',\n",
        "                    ha='center', va='bottom', fontsize=8, fontweight='bold')\n",
        "\n",
        "    plt.legend()\n",
        "else:\n",
        "    plt.text(0.5, 0.5, 'Нет данных для расчета соотношений по возрастам',\n",
        "             ha='center', va='center', transform=plt.gca().transAxes)\n",
        "    plt.title('Соотношение количества заболеваний мужчин к женщинам по возрастам')\n",
        "\n",
        "plt.tight_layout()\n",
        "plt.show()\n",
        "\n",
        "total_male = heart_disease_data[heart_disease_data['Sex'].isin(['M', 'Male'])].shape[0]\n",
        "total_female = heart_disease_data[heart_disease_data['Sex'].isin(['F', 'Female'])].shape[0]\n",
        "\n",
        "print(f\"Общее количество мужчин с заболеваниями: {total_male}\")\n",
        "print(f\"Общее количество женщин с заболеваниями: {total_female}\")\n",
        "if total_female > 0:\n",
        "    total_ratio = total_male / total_female\n",
        "    print(f\"Общее соотношение (М/Ж): {total_ratio:.2f}\")"
      ],
      "metadata": {
        "id": "l8pS7vWHGn3y"
      },
      "id": "l8pS7vWHGn3y",
      "execution_count": null,
      "outputs": []
    },
    {
      "cell_type": "markdown",
      "source": [
        "Теперь совершенно очевидно, что мужчин на порядок больше в датасете."
      ],
      "metadata": {
        "id": "wGIk27hvHvPj"
      },
      "id": "wGIk27hvHvPj"
    },
    {
      "cell_type": "markdown",
      "source": [
        "посмотрим какие типы боли наиболее распространнены у мужчин и женщин.  "
      ],
      "metadata": {
        "id": "iiSTt7-4ADcH"
      },
      "id": "iiSTt7-4ADcH"
    },
    {
      "cell_type": "code",
      "execution_count": null,
      "id": "f778c5ad-4b72-40c1-8355-2f0c85a7abb1",
      "metadata": {
        "id": "f778c5ad-4b72-40c1-8355-2f0c85a7abb1"
      },
      "outputs": [],
      "source": [
        "sns.histplot(data = df, x = \"Sex\", binwidth = 0.2, hue = \"ChestPainType\", multiple = \"stack\")"
      ]
    },
    {
      "cell_type": "markdown",
      "source": [
        "переделать, чтобы наличие заболевания было нормально подписано.  \n",
        "\n",
        "\n",
        "выведем какой тип боли встречается у больных и здоровых.  "
      ],
      "metadata": {
        "id": "7rD2VHniAaiK"
      },
      "id": "7rD2VHniAaiK"
    },
    {
      "cell_type": "code",
      "execution_count": null,
      "id": "80d33872-ccf3-4e89-be99-5f806924c9ef",
      "metadata": {
        "id": "80d33872-ccf3-4e89-be99-5f806924c9ef"
      },
      "outputs": [],
      "source": [
        "df['HeartDisease_Label'] = df['HeartDisease'].map({0: 'No Disease', 1: 'Disease'})\n",
        "\n",
        "plt.figure(figsize=(10, 5))\n",
        "ax = sns.histplot(data=df, x=\"HeartDisease_Label\", binwidth=0.5,\n",
        "                 hue=\"ChestPainType\", multiple=\"stack\")\n",
        "plt.xlabel('Heart Disease Status')\n",
        "plt.ylabel('Count')\n",
        "plt.title('Distribution of Chest Pain Types by Disease Status')\n",
        "plt.tight_layout()\n",
        "plt.show()\n",
        "\n",
        "df = df.drop('HeartDisease_Label', axis=1)"
      ]
    },
    {
      "cell_type": "markdown",
      "source": [
        "выведем матрицу кореляции числовых переменных.  "
      ],
      "metadata": {
        "id": "pcQZ1bPlB9Yn"
      },
      "id": "pcQZ1bPlB9Yn"
    },
    {
      "cell_type": "code",
      "execution_count": null,
      "id": "577250f6-38b3-4acc-b42b-4757d4ab5059",
      "metadata": {
        "id": "577250f6-38b3-4acc-b42b-4757d4ab5059"
      },
      "outputs": [],
      "source": [
        "figure_size = (6, 6)\n",
        "frontsize_annotation = 10\n",
        "fig, ax = plt.subplots(figsize = figure_size)\n",
        "plt.title(\"Correlation martix\")\n",
        "heatmap = sns.heatmap(df.select_dtypes(include = [\"int64\", \"float64\"]).corr(),\n",
        "                   annot=True,\n",
        "                   square=True,\n",
        "                   fmt='.1%',\n",
        "                   cmap='GnBu',\n",
        "                   cbar=False,\n",
        "                   annot_kws={'size':str(frontsize_annotation)},\n",
        "                   linewidth=0.1\n",
        "                  )\n",
        "\n",
        "plt.show()"
      ]
    },
    {
      "cell_type": "markdown",
      "source": [
        "# **Начинаем создание модели**"
      ],
      "metadata": {
        "id": "D9ZOSNfVIB0o"
      },
      "id": "D9ZOSNfVIB0o"
    },
    {
      "cell_type": "markdown",
      "source": [
        "создаём список из имён параметров которые являются типом \"object\".  "
      ],
      "metadata": {
        "id": "g-68uP8ys5yo"
      },
      "id": "g-68uP8ys5yo"
    },
    {
      "cell_type": "code",
      "source": [
        "object_col = df.select_dtypes(include = \"object\").columns.to_list()"
      ],
      "metadata": {
        "id": "bJA1GJV4Aidq"
      },
      "id": "bJA1GJV4Aidq",
      "execution_count": null,
      "outputs": []
    },
    {
      "cell_type": "markdown",
      "source": [
        "разбиваем параметры типа \"object\" по значениям, которые принимает переменная.   "
      ],
      "metadata": {
        "id": "nqWl4XAxtL3N"
      },
      "id": "nqWl4XAxtL3N"
    },
    {
      "cell_type": "code",
      "execution_count": null,
      "id": "0dd416f9-7e5d-416c-8cf9-8801d068832c",
      "metadata": {
        "id": "0dd416f9-7e5d-416c-8cf9-8801d068832c"
      },
      "outputs": [],
      "source": [
        "df_non_tree = pd.get_dummies(df, columns=object_col,drop_first=False)\n",
        "df_non_tree.head()"
      ]
    },
    {
      "cell_type": "markdown",
      "source": [
        "переводим True и False в 1 и 0.  \n",
        "сохраняем целевую переменную в y.  \n",
        "в X оставляем остальные переменные.  "
      ],
      "metadata": {
        "id": "l8ok7Dm1t2KC"
      },
      "id": "l8ok7Dm1t2KC"
    },
    {
      "cell_type": "code",
      "execution_count": null,
      "id": "aa164f9b-058c-4884-a979-e7be793393e7",
      "metadata": {
        "id": "aa164f9b-058c-4884-a979-e7be793393e7"
      },
      "outputs": [],
      "source": [
        "y = df_non_tree[\"HeartDisease\"].values\n",
        "df_non_tree.drop(\"HeartDisease\",axis=1,inplace=True)\n",
        "df_non_tree=pd.concat([df_non_tree,df[\"HeartDisease\"]],axis=1)\n",
        "boolean_col = df_non_tree.select_dtypes(include = \"boolean\").columns.to_list()\n",
        "df_non_tree[boolean_col] = df_non_tree[boolean_col].astype(\"int64\")\n",
        "X = df_non_tree.drop(\"HeartDisease\",axis=1)\n",
        "df_non_tree.head()"
      ]
    },
    {
      "cell_type": "markdown",
      "source": [
        "разбаваем дата сет поровну на тренировочный и тестовый набор данных.  \n"
      ],
      "metadata": {
        "id": "txXGUt1guRrA"
      },
      "id": "txXGUt1guRrA"
    },
    {
      "cell_type": "code",
      "execution_count": null,
      "id": "5ce2f5c7-863d-41f3-8058-f23ec370212c",
      "metadata": {
        "id": "5ce2f5c7-863d-41f3-8058-f23ec370212c"
      },
      "outputs": [],
      "source": [
        "X_train, X_test, y_train, y_test = train_test_split(X, y, test_size = 0.5)"
      ]
    },
    {
      "cell_type": "markdown",
      "source": [
        "импортируем линейную регресию и среднюю кравдратичную ошибку из sklearn"
      ],
      "metadata": {
        "id": "lipHEZ7ductY"
      },
      "id": "lipHEZ7ductY"
    },
    {
      "cell_type": "code",
      "execution_count": null,
      "id": "0120ea57-e6d6-4693-868f-18ed3c669078",
      "metadata": {
        "id": "0120ea57-e6d6-4693-868f-18ed3c669078"
      },
      "outputs": [],
      "source": [
        "from sklearn.linear_model import LinearRegression\n",
        "from sklearn.metrics import mean_squared_error as mse"
      ]
    },
    {
      "cell_type": "markdown",
      "source": [
        "обучаем модель на тренировочных данных.  \n",
        "проводим тестирование на тестовых.  "
      ],
      "metadata": {
        "id": "nJq4vb2AunXs"
      },
      "id": "nJq4vb2AunXs"
    },
    {
      "cell_type": "code",
      "execution_count": null,
      "id": "d6f9c58b-deb9-45a3-a462-a06dac3e1504",
      "metadata": {
        "id": "d6f9c58b-deb9-45a3-a462-a06dac3e1504"
      },
      "outputs": [],
      "source": [
        "model_linear = LinearRegression()\n",
        "model_linear.fit(X_train, y_train)\n",
        "y_predicted = model_linear.predict(X_test)"
      ]
    },
    {
      "cell_type": "markdown",
      "source": [
        "посмотрим на значение ошибок модели.  "
      ],
      "metadata": {
        "id": "Qv4HVdmeu7cZ"
      },
      "id": "Qv4HVdmeu7cZ"
    },
    {
      "cell_type": "code",
      "execution_count": null,
      "id": "4cb1f68a-1511-4a72-a21f-4d1e7663a0a1",
      "metadata": {
        "id": "4cb1f68a-1511-4a72-a21f-4d1e7663a0a1"
      },
      "outputs": [],
      "source": [
        "print(\"Score \",model_linear.score(X,y))\n",
        "print(\"Mse \", mse(y_predicted,y_test))\n",
        "print(\"Rmse \", np.sqrt(mse(y_predicted,y_test)))"
      ]
    },
    {
      "cell_type": "markdown",
      "source": [
        "выведим список предсказаний модели.  "
      ],
      "metadata": {
        "id": "Y2-58C2IzLGJ"
      },
      "id": "Y2-58C2IzLGJ"
    },
    {
      "cell_type": "markdown",
      "source": [
        "округлим предсказанные значения выше 0.5 к 1.  \n",
        "ниже к 0.  "
      ],
      "metadata": {
        "id": "Z0V3rMkL29Sv"
      },
      "id": "Z0V3rMkL29Sv"
    },
    {
      "cell_type": "code",
      "source": [
        "for i in range(len(y_predicted)):\n",
        "  if y_predicted[i] >= 0.5:\n",
        "    y_predicted[i]=int(1)\n",
        "  else:\n",
        "    y_predicted[i] = int(0)\n",
        "y_predicted = y_predicted.astype(\"int64\")"
      ],
      "metadata": {
        "id": "cml421q9B9wv"
      },
      "id": "cml421q9B9wv",
      "execution_count": null,
      "outputs": []
    },
    {
      "cell_type": "markdown",
      "source": [
        "выведем коэфиценты модели.  \n"
      ],
      "metadata": {
        "id": "KNLPg6VuCzOp"
      },
      "id": "KNLPg6VuCzOp"
    },
    {
      "cell_type": "code",
      "execution_count": null,
      "id": "521f4df6-080d-4423-a6b3-9fd6fb0ac55d",
      "metadata": {
        "id": "521f4df6-080d-4423-a6b3-9fd6fb0ac55d"
      },
      "outputs": [],
      "source": [
        "model_linear.coef_\n",
        "np.set_printoptions(suppress=True)\n",
        "for i in range(model_linear.n_features_in_ - 1):\n",
        "    print(f'{model_linear.feature_names_in_[i]} - { model_linear.coef_[i]}')"
      ]
    },
    {
      "cell_type": "markdown",
      "source": [
        "используем логистискую регресию.  \n",
        "обучаем её на тренировачных данных.  \n"
      ],
      "metadata": {
        "id": "XnOlC0_yC6Yg"
      },
      "id": "XnOlC0_yC6Yg"
    },
    {
      "cell_type": "code",
      "execution_count": null,
      "id": "d1fa2919-902e-44d0-84e5-73448436e3cd",
      "metadata": {
        "id": "d1fa2919-902e-44d0-84e5-73448436e3cd"
      },
      "outputs": [],
      "source": [
        "from sklearn.linear_model import LogisticRegression\n",
        "model_logistic = LogisticRegression(tol = 1e-100, max_iter=100000)\n",
        "model_logistic.fit(X_train, y_train)\n",
        "y_predicted_log = model_logistic.predict(X_test)"
      ]
    },
    {
      "cell_type": "markdown",
      "source": [
        "выводим значения ошибок модели"
      ],
      "metadata": {
        "id": "MpngN6x5FLCM"
      },
      "id": "MpngN6x5FLCM"
    },
    {
      "cell_type": "code",
      "execution_count": null,
      "id": "048bd21b-9258-4b88-a4f4-a52077d8f409",
      "metadata": {
        "id": "048bd21b-9258-4b88-a4f4-a52077d8f409"
      },
      "outputs": [],
      "source": [
        "print(\"Score \",model_logistic.score(X,y))\n",
        "print(\"Mse \", mse(y_test, model_logistic.predict(X_test)))"
      ]
    },
    {
      "cell_type": "markdown",
      "source": [
        "выводим коэфиценты логистической регресии.  "
      ],
      "metadata": {
        "id": "r4SJUup1GfNa"
      },
      "id": "r4SJUup1GfNa"
    },
    {
      "cell_type": "code",
      "execution_count": null,
      "id": "cceeb920-3146-4d4b-88bc-4966d2c10a72",
      "metadata": {
        "id": "cceeb920-3146-4d4b-88bc-4966d2c10a72"
      },
      "outputs": [],
      "source": [
        "for i in range(model_logistic.n_features_in_ - 1):\n",
        "    print(f'{model_logistic.feature_names_in_[i]} - {model_logistic.coef_[0][i]}')"
      ]
    },
    {
      "cell_type": "markdown",
      "source": [
        "# **Применим различные метрики к полученным результатам.**"
      ],
      "metadata": {
        "id": "WUf9w5SGMRH4"
      },
      "id": "WUf9w5SGMRH4"
    },
    {
      "cell_type": "markdown",
      "source": [
        "Метрика accuracy.  "
      ],
      "metadata": {
        "id": "i1nzH-TmM0c9"
      },
      "id": "i1nzH-TmM0c9"
    },
    {
      "cell_type": "code",
      "source": [
        "acc = 0\n",
        "for i in range(len(y_predicted)):\n",
        "  if y_predicted[i] == y_test[i]:\n",
        "    acc+=1\n",
        "print(acc/(len(y_predicted)))\n"
      ],
      "metadata": {
        "id": "vCfnYCBjC3uB"
      },
      "id": "vCfnYCBjC3uB",
      "execution_count": null,
      "outputs": []
    },
    {
      "cell_type": "code",
      "source": [
        "model_logistic.predict(X_test)\n",
        "acc_1 = 0\n",
        "for i in range(len(model_logistic.predict(X_test))):\n",
        "  if model_logistic.predict(X_test)[i] == y_test[i]:\n",
        "    acc_1+=1\n",
        "print(acc_1/(len(model_logistic.predict(X_test))))"
      ],
      "metadata": {
        "id": "E2WUlRO8EIVj"
      },
      "id": "E2WUlRO8EIVj",
      "execution_count": null,
      "outputs": []
    },
    {
      "cell_type": "markdown",
      "source": [
        "Accuracy = Количество верных предсказаний / Общее количество примеров  \n",
        "Видим, что обе модели в >80% случиях верно предсказывают результат.   "
      ],
      "metadata": {
        "id": "4vUaXp_8M_au"
      },
      "id": "4vUaXp_8M_au"
    },
    {
      "cell_type": "markdown",
      "source": [
        "Метрика Sensitivity.  "
      ],
      "metadata": {
        "id": "MUm2ZA5GOvQj"
      },
      "id": "MUm2ZA5GOvQj"
    },
    {
      "cell_type": "code",
      "source": [
        "true_positive = 0\n",
        "false_negative = 0\n",
        "sensitivity = 0\n",
        "for i in range(len(y_predicted)):\n",
        "    if y_test[i] == 1:\n",
        "        if y_predicted[i] == 1:\n",
        "            true_positive += 1\n",
        "        else:\n",
        "            false_negative += 1\n",
        "sensitivity = true_positive / (true_positive + false_negative) if (true_positive + false_negative) > 0 else 0\n",
        "\n",
        "print(f\"Sensitivity: {sensitivity:.4f}\")\n",
        "print(f\"True Positive: {true_positive}\")\n",
        "print(f\"False Negative: {false_negative}\")"
      ],
      "metadata": {
        "id": "TJliZzUWOccP"
      },
      "id": "TJliZzUWOccP",
      "execution_count": null,
      "outputs": []
    },
    {
      "cell_type": "code",
      "source": [
        "y_pred = model_logistic.predict(X_test)\n",
        "true_positive = 0\n",
        "false_negative = 0\n",
        "sensitivity = 0\n",
        "for i in range(len(y_pred)):\n",
        "    if y_test[i] == 1:\n",
        "        if y_pred[i] == 1:\n",
        "            true_positive += 1\n",
        "        else:\n",
        "            false_negative += 1\n",
        "sensitivity = true_positive / (true_positive + false_negative) if (true_positive + false_negative) > 0 else 0\n",
        "\n",
        "print(f\"Sensitivity: {sensitivity:.4f}\")\n",
        "print(f\"True Positive: {true_positive}\")\n",
        "print(f\"False Negative: {false_negative}\")"
      ],
      "metadata": {
        "id": "grkMMiNHKJYr"
      },
      "id": "grkMMiNHKJYr",
      "execution_count": null,
      "outputs": []
    },
    {
      "cell_type": "markdown",
      "source": [
        "Sensitivity = Количество правильно обнаруженных больных / Количество реально больных людей  \n",
        "Эта метрика показывает: какую долю действительно больных людей модель смогла правильно идентифицировать.  \n",
        "в >84% случаях модели найдут у больного человека заболевание.    "
      ],
      "metadata": {
        "id": "xZLL6u6zPDZM"
      },
      "id": "xZLL6u6zPDZM"
    },
    {
      "cell_type": "markdown",
      "source": [
        "Метрика Precision.  "
      ],
      "metadata": {
        "id": "hbPNO4l5QQW6"
      },
      "id": "hbPNO4l5QQW6"
    },
    {
      "cell_type": "code",
      "source": [
        "true_positive = 0\n",
        "false_positive = 0\n",
        "precision = 0\n",
        "for i in range(len(y_predicted)):\n",
        "    if y_predicted[i] == 1:\n",
        "        if y_test[i] == 1:\n",
        "            true_positive += 1\n",
        "        else:\n",
        "            false_positive += 1\n",
        "precision = true_positive / (true_positive + false_positive) if (true_positive + false_positive) > 0 else 0\n",
        "\n",
        "print(f\"Precision: {precision:.4f}\")\n",
        "print(f\"True Positive: {true_positive}\")\n",
        "print(f\"False Positive: {false_positive}\")"
      ],
      "metadata": {
        "id": "haVqMPKIQQH1"
      },
      "id": "haVqMPKIQQH1",
      "execution_count": null,
      "outputs": []
    },
    {
      "cell_type": "code",
      "source": [
        "y_pred = model_logistic.predict(X_test)\n",
        "true_positive = 0\n",
        "false_positive = 0\n",
        "precision = 0\n",
        "for i in range(len(y_pred)):\n",
        "    if y_pred[i] == 1:\n",
        "        if y_test[i] == 1:\n",
        "            true_positive += 1\n",
        "        else:\n",
        "            false_positive += 1\n",
        "precision = true_positive / (true_positive + false_positive) if (true_positive + false_positive) > 0 else 0\n",
        "\n",
        "print(f\"Precision: {precision:.4f}\")\n",
        "print(f\"True Positive: {true_positive}\")\n",
        "print(f\"False Positive: {false_positive}\")"
      ],
      "metadata": {
        "id": "wHQwGbFkK6FI"
      },
      "id": "wHQwGbFkK6FI",
      "execution_count": null,
      "outputs": []
    },
    {
      "cell_type": "markdown",
      "source": [
        "Precision = Количество правильно обнаруженных больных / Количество людей, которых модель назвала больными  \n",
        "Эта метрика показывает: Долю действительно больных среди тех, кого модель назвала больными.  \n",
        "в >83% модель правильно определяет людей с заболеванием.  "
      ],
      "metadata": {
        "id": "IEiBKMHURBgf"
      },
      "id": "IEiBKMHURBgf"
    },
    {
      "cell_type": "markdown",
      "source": [
        "# **Итог**\n",
        "Провёл анализ датасета.\n",
        "Вывел графики по различным параметрам.\n",
        "В датасете преобладает информация о мужском поле.\n",
        "Реализовал линейную и логистическую регресии.\n",
        "Провёл тесты на трёх метриках: Precision, Sensitivity, Accuracy.\n",
        "Во всёх тестах результаты около 85%.  "
      ],
      "metadata": {
        "id": "nJqI1X5uzAAB"
      },
      "id": "nJqI1X5uzAAB"
    }
  ],
  "metadata": {
    "kernelspec": {
      "display_name": "Python 3 (ipykernel)",
      "language": "python",
      "name": "python3"
    },
    "language_info": {
      "codemirror_mode": {
        "name": "ipython",
        "version": 3
      },
      "file_extension": ".py",
      "mimetype": "text/x-python",
      "name": "python",
      "nbconvert_exporter": "python",
      "pygments_lexer": "ipython3",
      "version": "3.9.5"
    },
    "colab": {
      "provenance": []
    }
  },
  "nbformat": 4,
  "nbformat_minor": 5
}